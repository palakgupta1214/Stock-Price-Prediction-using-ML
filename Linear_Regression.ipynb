{
  "nbformat": 4,
  "nbformat_minor": 0,
  "metadata": {
    "colab": {
      "provenance": [],
      "include_colab_link": true
    },
    "kernelspec": {
      "name": "python3",
      "display_name": "Python 3"
    },
    "language_info": {
      "name": "python"
    }
  },
  "cells": [
    {
      "cell_type": "markdown",
      "metadata": {
        "id": "view-in-github",
        "colab_type": "text"
      },
      "source": [
        "<a href=\"https://colab.research.google.com/github/palakgupta1214/Stock-Price-Prediction-using-ML/blob/main/Linear_Regression.ipynb\" target=\"_parent\"><img src=\"https://colab.research.google.com/assets/colab-badge.svg\" alt=\"Open In Colab\"/></a>"
      ]
    },
    {
      "cell_type": "code",
      "source": [
        "# Import required libraries\n",
        "import yfinance as yf\n",
        "import pandas as pd\n",
        "import numpy as np\n",
        "import matplotlib.pyplot as plt\n",
        "import seaborn as sns"
      ],
      "metadata": {
        "id": "IZpS3LCpmK4r"
      },
      "execution_count": null,
      "outputs": []
    },
    {
      "cell_type": "code",
      "source": [
        "# Take input for stock symbol from user\n",
        "symbol = input(\"Enter stock symbol: \")"
      ],
      "metadata": {
        "colab": {
          "base_uri": "https://localhost:8080/"
        },
        "id": "vSVc269OmLUv",
        "outputId": "731722f3-2ec2-4985-bbce-7dc9ab68a00e"
      },
      "execution_count": null,
      "outputs": [
        {
          "name": "stdout",
          "output_type": "stream",
          "text": [
            "Enter stock symbol: MSFT\n"
          ]
        }
      ]
    },
    {
      "cell_type": "code",
      "source": [
        "# Set start and end dates for historical data\n",
        "end = pd.Timestamp.today()\n",
        "start = end - pd.Timedelta(days=365) # 1 years data"
      ],
      "metadata": {
        "id": "TR7LEZPmmPLy"
      },
      "execution_count": null,
      "outputs": []
    },
    {
      "cell_type": "markdown",
      "source": [
        "# **Data**"
      ],
      "metadata": {
        "id": "14q_Mc6i7Gxd"
      }
    },
    {
      "cell_type": "code",
      "source": [
        "# Get historical data for chosen stock from Yahoo Finance using yfinance\n",
        "data_frame = yf.download(symbol, start=start, end=end)\n",
        "data_frame"
      ],
      "metadata": {
        "colab": {
          "base_uri": "https://localhost:8080/"
        },
        "id": "FFkJMPSXP9gy",
        "outputId": "a2af297d-b089-4dfa-c796-649c8d4cfa6e"
      },
      "execution_count": null,
      "outputs": [
        {
          "output_type": "stream",
          "name": "stdout",
          "text": [
            "\r[*********************100%***********************]  1 of 1 completed\n"
          ]
        },
        {
          "output_type": "execute_result",
          "data": {
            "text/plain": [
              "                  Open        High         Low       Close   Adj Close  \\\n",
              "Date                                                                     \n",
              "2022-05-03  283.959991  284.130005  280.149994  281.779999  279.042511   \n",
              "2022-05-04  282.589996  290.880005  276.730011  289.980011  287.162811   \n",
              "2022-05-05  285.540009  286.350006  274.339996  277.350006  274.655548   \n",
              "2022-05-06  274.809998  279.250000  271.269989  274.730011  272.060974   \n",
              "2022-05-09  270.059998  272.359985  263.320007  264.579987  262.009583   \n",
              "...                ...         ...         ...         ...         ...   \n",
              "2023-04-26  296.700012  299.570007  292.730011  295.369995  295.369995   \n",
              "2023-04-27  295.970001  305.200012  295.250000  304.829987  304.829987   \n",
              "2023-04-28  304.010010  308.929993  303.309998  307.260010  307.260010   \n",
              "2023-05-01  306.970001  308.600006  305.149994  305.559998  305.559998   \n",
              "2023-05-02  307.760010  309.179993  303.910004  305.410004  305.410004   \n",
              "\n",
              "              Volume  \n",
              "Date                  \n",
              "2022-05-03  25978600  \n",
              "2022-05-04  33599300  \n",
              "2022-05-05  43260400  \n",
              "2022-05-06  37780300  \n",
              "2022-05-09  47726000  \n",
              "...              ...  \n",
              "2023-04-26  64599200  \n",
              "2023-04-27  46462600  \n",
              "2023-04-28  36446700  \n",
              "2023-05-01  21294100  \n",
              "2023-05-02  26359500  \n",
              "\n",
              "[251 rows x 6 columns]"
            ],
            "text/html": [
              "\n",
              "  <div id=\"df-7c8c4a1b-e046-4445-a5dd-8247f058eade\">\n",
              "    <div class=\"colab-df-container\">\n",
              "      <div>\n",
              "<style scoped>\n",
              "    .dataframe tbody tr th:only-of-type {\n",
              "        vertical-align: middle;\n",
              "    }\n",
              "\n",
              "    .dataframe tbody tr th {\n",
              "        vertical-align: top;\n",
              "    }\n",
              "\n",
              "    .dataframe thead th {\n",
              "        text-align: right;\n",
              "    }\n",
              "</style>\n",
              "<table border=\"1\" class=\"dataframe\">\n",
              "  <thead>\n",
              "    <tr style=\"text-align: right;\">\n",
              "      <th></th>\n",
              "      <th>Open</th>\n",
              "      <th>High</th>\n",
              "      <th>Low</th>\n",
              "      <th>Close</th>\n",
              "      <th>Adj Close</th>\n",
              "      <th>Volume</th>\n",
              "    </tr>\n",
              "    <tr>\n",
              "      <th>Date</th>\n",
              "      <th></th>\n",
              "      <th></th>\n",
              "      <th></th>\n",
              "      <th></th>\n",
              "      <th></th>\n",
              "      <th></th>\n",
              "    </tr>\n",
              "  </thead>\n",
              "  <tbody>\n",
              "    <tr>\n",
              "      <th>2022-05-03</th>\n",
              "      <td>283.959991</td>\n",
              "      <td>284.130005</td>\n",
              "      <td>280.149994</td>\n",
              "      <td>281.779999</td>\n",
              "      <td>279.042511</td>\n",
              "      <td>25978600</td>\n",
              "    </tr>\n",
              "    <tr>\n",
              "      <th>2022-05-04</th>\n",
              "      <td>282.589996</td>\n",
              "      <td>290.880005</td>\n",
              "      <td>276.730011</td>\n",
              "      <td>289.980011</td>\n",
              "      <td>287.162811</td>\n",
              "      <td>33599300</td>\n",
              "    </tr>\n",
              "    <tr>\n",
              "      <th>2022-05-05</th>\n",
              "      <td>285.540009</td>\n",
              "      <td>286.350006</td>\n",
              "      <td>274.339996</td>\n",
              "      <td>277.350006</td>\n",
              "      <td>274.655548</td>\n",
              "      <td>43260400</td>\n",
              "    </tr>\n",
              "    <tr>\n",
              "      <th>2022-05-06</th>\n",
              "      <td>274.809998</td>\n",
              "      <td>279.250000</td>\n",
              "      <td>271.269989</td>\n",
              "      <td>274.730011</td>\n",
              "      <td>272.060974</td>\n",
              "      <td>37780300</td>\n",
              "    </tr>\n",
              "    <tr>\n",
              "      <th>2022-05-09</th>\n",
              "      <td>270.059998</td>\n",
              "      <td>272.359985</td>\n",
              "      <td>263.320007</td>\n",
              "      <td>264.579987</td>\n",
              "      <td>262.009583</td>\n",
              "      <td>47726000</td>\n",
              "    </tr>\n",
              "    <tr>\n",
              "      <th>...</th>\n",
              "      <td>...</td>\n",
              "      <td>...</td>\n",
              "      <td>...</td>\n",
              "      <td>...</td>\n",
              "      <td>...</td>\n",
              "      <td>...</td>\n",
              "    </tr>\n",
              "    <tr>\n",
              "      <th>2023-04-26</th>\n",
              "      <td>296.700012</td>\n",
              "      <td>299.570007</td>\n",
              "      <td>292.730011</td>\n",
              "      <td>295.369995</td>\n",
              "      <td>295.369995</td>\n",
              "      <td>64599200</td>\n",
              "    </tr>\n",
              "    <tr>\n",
              "      <th>2023-04-27</th>\n",
              "      <td>295.970001</td>\n",
              "      <td>305.200012</td>\n",
              "      <td>295.250000</td>\n",
              "      <td>304.829987</td>\n",
              "      <td>304.829987</td>\n",
              "      <td>46462600</td>\n",
              "    </tr>\n",
              "    <tr>\n",
              "      <th>2023-04-28</th>\n",
              "      <td>304.010010</td>\n",
              "      <td>308.929993</td>\n",
              "      <td>303.309998</td>\n",
              "      <td>307.260010</td>\n",
              "      <td>307.260010</td>\n",
              "      <td>36446700</td>\n",
              "    </tr>\n",
              "    <tr>\n",
              "      <th>2023-05-01</th>\n",
              "      <td>306.970001</td>\n",
              "      <td>308.600006</td>\n",
              "      <td>305.149994</td>\n",
              "      <td>305.559998</td>\n",
              "      <td>305.559998</td>\n",
              "      <td>21294100</td>\n",
              "    </tr>\n",
              "    <tr>\n",
              "      <th>2023-05-02</th>\n",
              "      <td>307.760010</td>\n",
              "      <td>309.179993</td>\n",
              "      <td>303.910004</td>\n",
              "      <td>305.410004</td>\n",
              "      <td>305.410004</td>\n",
              "      <td>26359500</td>\n",
              "    </tr>\n",
              "  </tbody>\n",
              "</table>\n",
              "<p>251 rows × 6 columns</p>\n",
              "</div>\n",
              "      <button class=\"colab-df-convert\" onclick=\"convertToInteractive('df-7c8c4a1b-e046-4445-a5dd-8247f058eade')\"\n",
              "              title=\"Convert this dataframe to an interactive table.\"\n",
              "              style=\"display:none;\">\n",
              "        \n",
              "  <svg xmlns=\"http://www.w3.org/2000/svg\" height=\"24px\"viewBox=\"0 0 24 24\"\n",
              "       width=\"24px\">\n",
              "    <path d=\"M0 0h24v24H0V0z\" fill=\"none\"/>\n",
              "    <path d=\"M18.56 5.44l.94 2.06.94-2.06 2.06-.94-2.06-.94-.94-2.06-.94 2.06-2.06.94zm-11 1L8.5 8.5l.94-2.06 2.06-.94-2.06-.94L8.5 2.5l-.94 2.06-2.06.94zm10 10l.94 2.06.94-2.06 2.06-.94-2.06-.94-.94-2.06-.94 2.06-2.06.94z\"/><path d=\"M17.41 7.96l-1.37-1.37c-.4-.4-.92-.59-1.43-.59-.52 0-1.04.2-1.43.59L10.3 9.45l-7.72 7.72c-.78.78-.78 2.05 0 2.83L4 21.41c.39.39.9.59 1.41.59.51 0 1.02-.2 1.41-.59l7.78-7.78 2.81-2.81c.8-.78.8-2.07 0-2.86zM5.41 20L4 18.59l7.72-7.72 1.47 1.35L5.41 20z\"/>\n",
              "  </svg>\n",
              "      </button>\n",
              "      \n",
              "  <style>\n",
              "    .colab-df-container {\n",
              "      display:flex;\n",
              "      flex-wrap:wrap;\n",
              "      gap: 12px;\n",
              "    }\n",
              "\n",
              "    .colab-df-convert {\n",
              "      background-color: #E8F0FE;\n",
              "      border: none;\n",
              "      border-radius: 50%;\n",
              "      cursor: pointer;\n",
              "      display: none;\n",
              "      fill: #1967D2;\n",
              "      height: 32px;\n",
              "      padding: 0 0 0 0;\n",
              "      width: 32px;\n",
              "    }\n",
              "\n",
              "    .colab-df-convert:hover {\n",
              "      background-color: #E2EBFA;\n",
              "      box-shadow: 0px 1px 2px rgba(60, 64, 67, 0.3), 0px 1px 3px 1px rgba(60, 64, 67, 0.15);\n",
              "      fill: #174EA6;\n",
              "    }\n",
              "\n",
              "    [theme=dark] .colab-df-convert {\n",
              "      background-color: #3B4455;\n",
              "      fill: #D2E3FC;\n",
              "    }\n",
              "\n",
              "    [theme=dark] .colab-df-convert:hover {\n",
              "      background-color: #434B5C;\n",
              "      box-shadow: 0px 1px 3px 1px rgba(0, 0, 0, 0.15);\n",
              "      filter: drop-shadow(0px 1px 2px rgba(0, 0, 0, 0.3));\n",
              "      fill: #FFFFFF;\n",
              "    }\n",
              "  </style>\n",
              "\n",
              "      <script>\n",
              "        const buttonEl =\n",
              "          document.querySelector('#df-7c8c4a1b-e046-4445-a5dd-8247f058eade button.colab-df-convert');\n",
              "        buttonEl.style.display =\n",
              "          google.colab.kernel.accessAllowed ? 'block' : 'none';\n",
              "\n",
              "        async function convertToInteractive(key) {\n",
              "          const element = document.querySelector('#df-7c8c4a1b-e046-4445-a5dd-8247f058eade');\n",
              "          const dataTable =\n",
              "            await google.colab.kernel.invokeFunction('convertToInteractive',\n",
              "                                                     [key], {});\n",
              "          if (!dataTable) return;\n",
              "\n",
              "          const docLinkHtml = 'Like what you see? Visit the ' +\n",
              "            '<a target=\"_blank\" href=https://colab.research.google.com/notebooks/data_table.ipynb>data table notebook</a>'\n",
              "            + ' to learn more about interactive tables.';\n",
              "          element.innerHTML = '';\n",
              "          dataTable['output_type'] = 'display_data';\n",
              "          await google.colab.output.renderOutput(dataTable, element);\n",
              "          const docLink = document.createElement('div');\n",
              "          docLink.innerHTML = docLinkHtml;\n",
              "          element.appendChild(docLink);\n",
              "        }\n",
              "      </script>\n",
              "    </div>\n",
              "  </div>\n",
              "  "
            ]
          },
          "metadata": {},
          "execution_count": 5
        }
      ]
    },
    {
      "cell_type": "markdown",
      "source": [
        "# **Correlation**"
      ],
      "metadata": {
        "id": "v1XA_FkS8GkR"
      }
    },
    {
      "cell_type": "code",
      "source": [
        "# Calculate the correlation matrix\n",
        "corr_matrix = data_frame.corr()\n",
        "\n",
        "# Display the correlation matrix\n",
        "print(corr_matrix)"
      ],
      "metadata": {
        "colab": {
          "base_uri": "https://localhost:8080/"
        },
        "id": "UoKAUuAkRvqN",
        "outputId": "1eb65665-6f34-4eac-e12f-ab83bf77e36c"
      },
      "execution_count": null,
      "outputs": [
        {
          "output_type": "stream",
          "name": "stdout",
          "text": [
            "               Open      High       Low     Close  Adj Close    Volume\n",
            "Open       1.000000  0.990599  0.991281  0.975591   0.974575 -0.125184\n",
            "High       0.990599  1.000000  0.991023  0.990442   0.988971 -0.081892\n",
            "Low        0.991281  0.991023  1.000000  0.989837   0.989656 -0.152383\n",
            "Close      0.975591  0.990442  0.989837  1.000000   0.999145 -0.117298\n",
            "Adj Close  0.974575  0.988971  0.989656  0.999145   1.000000 -0.115510\n",
            "Volume    -0.125184 -0.081892 -0.152383 -0.117298  -0.115510  1.000000\n"
          ]
        }
      ]
    },
    {
      "cell_type": "code",
      "source": [
        "# Plot the correlation matrix as a heatmap\n",
        "f,ax=plt.subplots(figsize=(10,8))\n",
        "sns.heatmap(corr_matrix, annot=True, cmap='coolwarm')"
      ],
      "metadata": {
        "colab": {
          "base_uri": "https://localhost:8080/"
        },
        "id": "F2eUJsJ-v_mG",
        "outputId": "dd848c0b-8908-4e15-d1f0-95d5c0f3beac"
      },
      "execution_count": null,
      "outputs": [
        {
          "output_type": "execute_result",
          "data": {
            "text/plain": [
              "<Axes: >"
            ]
          },
          "metadata": {},
          "execution_count": 7
        },
        {
          "output_type": "display_data",
          "data": {
            "text/plain": [
              "<Figure size 1000x800 with 2 Axes>"
            ],
            "image/png": "[encoded data removed]"
          },
          "metadata": {}
        }
      ]
    },
    {
      "cell_type": "code",
      "source": [
        "# Numeric Values\n",
        "numeric_feature=data_frame.select_dtypes(include=[np.number])\n",
        "numeric_feature.columns"
      ],
      "metadata": {
        "colab": {
          "base_uri": "https://localhost:8080/"
        },
        "id": "BZ6st7JGv_i3",
        "outputId": "56f93d3a-2374-4ed3-961f-22636462864e"
      },
      "execution_count": null,
      "outputs": [
        {
          "output_type": "execute_result",
          "data": {
            "text/plain": [
              "Index(['Open', 'High', 'Low', 'Close', 'Adj Close', 'Volume'], dtype='object')"
            ]
          },
          "metadata": {},
          "execution_count": 8
        }
      ]
    },
    {
      "cell_type": "code",
      "source": [
        "# We have to ignore Day and Diff_Close_Price\n",
        "correlation=numeric_feature.corr()\n",
        "print(correlation['Close'].sort_values(ascending=False),'\\n')"
      ],
      "metadata": {
        "colab": {
          "base_uri": "https://localhost:8080/"
        },
        "id": "bPSF1kisv_gR",
        "outputId": "939c2152-634e-46ba-dc4e-8b0a38451884"
      },
      "execution_count": null,
      "outputs": [
        {
          "output_type": "stream",
          "name": "stdout",
          "text": [
            "Close        1.000000\n",
            "Adj Close    0.999145\n",
            "High         0.990442\n",
            "Low          0.989837\n",
            "Open         0.975591\n",
            "Volume      -0.117298\n",
            "Name: Close, dtype: float64 \n",
            "\n"
          ]
        }
      ]
    },
    {
      "cell_type": "code",
      "source": [
        "# We are considering Threshold Value > 0.9\n",
        "# Heat Map of Features (Threshold Value > 0.9)\n",
        "k=5\n",
        "cols=correlation.nlargest(k,'Close')['Close'].index\n",
        "print(cols)\n",
        "cm=np.corrcoef(data_frame[cols].values.T)\n",
        "f,ax=plt.subplots(figsize=(10,8))\n",
        "sns.heatmap(cm, vmax=.8, linewidths=0.01, square=True, annot=True, cmap='viridis', linecolor=\"white\", xticklabels=cols.values, annot_kws={'size':12}, yticklabels=cols.values)"
      ],
      "metadata": {
        "colab": {
          "base_uri": "https://localhost:8080/"
        },
        "id": "Y-uIbROPv_di",
        "outputId": "95e4942e-1af4-4adb-b0cd-720f781a639d"
      },
      "execution_count": null,
      "outputs": [
        {
          "output_type": "stream",
          "name": "stdout",
          "text": [
            "Index(['Close', 'Adj Close', 'High', 'Low', 'Open'], dtype='object')\n"
          ]
        },
        {
          "output_type": "execute_result",
          "data": {
            "text/plain": [
              "<Axes: >"
            ]
          },
          "metadata": {},
          "execution_count": 10
        },
        {
          "output_type": "display_data",
          "data": {
            "text/plain": [
              "<Figure size 1000x800 with 2 Axes>"
            ],
            "image/png": "[encoded data removed]"
          },
          "metadata": {}
        }
      ]
    },
    {
      "cell_type": "code",
      "source": [
        "# Rest we drop because their correlation value is too low\n",
        "# Dropping Featutes\n",
        "df=data_frame.drop(['Volume'],axis=1)\n",
        "df"
      ],
      "metadata": {
        "colab": {
          "base_uri": "https://localhost:8080/",
          "height": 455
        },
        "id": "G9SMJihvv_bA",
        "outputId": "c07f20ef-3177-4e2e-ffc8-3ef7ecc9d8e9"
      },
      "execution_count": null,
      "outputs": [
        {
          "output_type": "execute_result",
          "data": {
            "text/plain": [
              "                  Open        High         Low       Close   Adj Close\n",
              "Date                                                                  \n",
              "2022-05-03  283.959991  284.130005  280.149994  281.779999  279.042511\n",
              "2022-05-04  282.589996  290.880005  276.730011  289.980011  287.162811\n",
              "2022-05-05  285.540009  286.350006  274.339996  277.350006  274.655548\n",
              "2022-05-06  274.809998  279.250000  271.269989  274.730011  272.060974\n",
              "2022-05-09  270.059998  272.359985  263.320007  264.579987  262.009583\n",
              "...                ...         ...         ...         ...         ...\n",
              "2023-04-26  296.700012  299.570007  292.730011  295.369995  295.369995\n",
              "2023-04-27  295.970001  305.200012  295.250000  304.829987  304.829987\n",
              "2023-04-28  304.010010  308.929993  303.309998  307.260010  307.260010\n",
              "2023-05-01  306.970001  308.600006  305.149994  305.559998  305.559998\n",
              "2023-05-02  307.760010  309.179993  303.910004  305.410004  305.410004\n",
              "\n",
              "[251 rows x 5 columns]"
            ],
            "text/html": [
              "\n",
              "  <div id=\"df-fa40d602-ec4d-4d9c-8fcb-c15e23126244\">\n",
              "    <div class=\"colab-df-container\">\n",
              "      <div>\n",
              "<style scoped>\n",
              "    .dataframe tbody tr th:only-of-type {\n",
              "        vertical-align: middle;\n",
              "    }\n",
              "\n",
              "    .dataframe tbody tr th {\n",
              "        vertical-align: top;\n",
              "    }\n",
              "\n",
              "    .dataframe thead th {\n",
              "        text-align: right;\n",
              "    }\n",
              "</style>\n",
              "<table border=\"1\" class=\"dataframe\">\n",
              "  <thead>\n",
              "    <tr style=\"text-align: right;\">\n",
              "      <th></th>\n",
              "      <th>Open</th>\n",
              "      <th>High</th>\n",
              "      <th>Low</th>\n",
              "      <th>Close</th>\n",
              "      <th>Adj Close</th>\n",
              "    </tr>\n",
              "    <tr>\n",
              "      <th>Date</th>\n",
              "      <th></th>\n",
              "      <th></th>\n",
              "      <th></th>\n",
              "      <th></th>\n",
              "      <th></th>\n",
              "    </tr>\n",
              "  </thead>\n",
              "  <tbody>\n",
              "    <tr>\n",
              "      <th>2022-05-03</th>\n",
              "      <td>283.959991</td>\n",
              "      <td>284.130005</td>\n",
              "      <td>280.149994</td>\n",
              "      <td>281.779999</td>\n",
              "      <td>279.042511</td>\n",
              "    </tr>\n",
              "    <tr>\n",
              "      <th>2022-05-04</th>\n",
              "      <td>282.589996</td>\n",
              "      <td>290.880005</td>\n",
              "      <td>276.730011</td>\n",
              "      <td>289.980011</td>\n",
              "      <td>287.162811</td>\n",
              "    </tr>\n",
              "    <tr>\n",
              "      <th>2022-05-05</th>\n",
              "      <td>285.540009</td>\n",
              "      <td>286.350006</td>\n",
              "      <td>274.339996</td>\n",
              "      <td>277.350006</td>\n",
              "      <td>274.655548</td>\n",
              "    </tr>\n",
              "    <tr>\n",
              "      <th>2022-05-06</th>\n",
              "      <td>274.809998</td>\n",
              "      <td>279.250000</td>\n",
              "      <td>271.269989</td>\n",
              "      <td>274.730011</td>\n",
              "      <td>272.060974</td>\n",
              "    </tr>\n",
              "    <tr>\n",
              "      <th>2022-05-09</th>\n",
              "      <td>270.059998</td>\n",
              "      <td>272.359985</td>\n",
              "      <td>263.320007</td>\n",
              "      <td>264.579987</td>\n",
              "      <td>262.009583</td>\n",
              "    </tr>\n",
              "    <tr>\n",
              "      <th>...</th>\n",
              "      <td>...</td>\n",
              "      <td>...</td>\n",
              "      <td>...</td>\n",
              "      <td>...</td>\n",
              "      <td>...</td>\n",
              "    </tr>\n",
              "    <tr>\n",
              "      <th>2023-04-26</th>\n",
              "      <td>296.700012</td>\n",
              "      <td>299.570007</td>\n",
              "      <td>292.730011</td>\n",
              "      <td>295.369995</td>\n",
              "      <td>295.369995</td>\n",
              "    </tr>\n",
              "    <tr>\n",
              "      <th>2023-04-27</th>\n",
              "      <td>295.970001</td>\n",
              "      <td>305.200012</td>\n",
              "      <td>295.250000</td>\n",
              "      <td>304.829987</td>\n",
              "      <td>304.829987</td>\n",
              "    </tr>\n",
              "    <tr>\n",
              "      <th>2023-04-28</th>\n",
              "      <td>304.010010</td>\n",
              "      <td>308.929993</td>\n",
              "      <td>303.309998</td>\n",
              "      <td>307.260010</td>\n",
              "      <td>307.260010</td>\n",
              "    </tr>\n",
              "    <tr>\n",
              "      <th>2023-05-01</th>\n",
              "      <td>306.970001</td>\n",
              "      <td>308.600006</td>\n",
              "      <td>305.149994</td>\n",
              "      <td>305.559998</td>\n",
              "      <td>305.559998</td>\n",
              "    </tr>\n",
              "    <tr>\n",
              "      <th>2023-05-02</th>\n",
              "      <td>307.760010</td>\n",
              "      <td>309.179993</td>\n",
              "      <td>303.910004</td>\n",
              "      <td>305.410004</td>\n",
              "      <td>305.410004</td>\n",
              "    </tr>\n",
              "  </tbody>\n",
              "</table>\n",
              "<p>251 rows × 5 columns</p>\n",
              "</div>\n",
              "      <button class=\"colab-df-convert\" onclick=\"convertToInteractive('df-fa40d602-ec4d-4d9c-8fcb-c15e23126244')\"\n",
              "              title=\"Convert this dataframe to an interactive table.\"\n",
              "              style=\"display:none;\">\n",
              "        \n",
              "  <svg xmlns=\"http://www.w3.org/2000/svg\" height=\"24px\"viewBox=\"0 0 24 24\"\n",
              "       width=\"24px\">\n",
              "    <path d=\"M0 0h24v24H0V0z\" fill=\"none\"/>\n",
              "    <path d=\"M18.56 5.44l.94 2.06.94-2.06 2.06-.94-2.06-.94-.94-2.06-.94 2.06-2.06.94zm-11 1L8.5 8.5l.94-2.06 2.06-.94-2.06-.94L8.5 2.5l-.94 2.06-2.06.94zm10 10l.94 2.06.94-2.06 2.06-.94-2.06-.94-.94-2.06-.94 2.06-2.06.94z\"/><path d=\"M17.41 7.96l-1.37-1.37c-.4-.4-.92-.59-1.43-.59-.52 0-1.04.2-1.43.59L10.3 9.45l-7.72 7.72c-.78.78-.78 2.05 0 2.83L4 21.41c.39.39.9.59 1.41.59.51 0 1.02-.2 1.41-.59l7.78-7.78 2.81-2.81c.8-.78.8-2.07 0-2.86zM5.41 20L4 18.59l7.72-7.72 1.47 1.35L5.41 20z\"/>\n",
              "  </svg>\n",
              "      </button>\n",
              "      \n",
              "  <style>\n",
              "    .colab-df-container {\n",
              "      display:flex;\n",
              "      flex-wrap:wrap;\n",
              "      gap: 12px;\n",
              "    }\n",
              "\n",
              "    .colab-df-convert {\n",
              "      background-color: #E8F0FE;\n",
              "      border: none;\n",
              "      border-radius: 50%;\n",
              "      cursor: pointer;\n",
              "      display: none;\n",
              "      fill: #1967D2;\n",
              "      height: 32px;\n",
              "      padding: 0 0 0 0;\n",
              "      width: 32px;\n",
              "    }\n",
              "\n",
              "    .colab-df-convert:hover {\n",
              "      background-color: #E2EBFA;\n",
              "      box-shadow: 0px 1px 2px rgba(60, 64, 67, 0.3), 0px 1px 3px 1px rgba(60, 64, 67, 0.15);\n",
              "      fill: #174EA6;\n",
              "    }\n",
              "\n",
              "    [theme=dark] .colab-df-convert {\n",
              "      background-color: #3B4455;\n",
              "      fill: #D2E3FC;\n",
              "    }\n",
              "\n",
              "    [theme=dark] .colab-df-convert:hover {\n",
              "      background-color: #434B5C;\n",
              "      box-shadow: 0px 1px 3px 1px rgba(0, 0, 0, 0.15);\n",
              "      filter: drop-shadow(0px 1px 2px rgba(0, 0, 0, 0.3));\n",
              "      fill: #FFFFFF;\n",
              "    }\n",
              "  </style>\n",
              "\n",
              "      <script>\n",
              "        const buttonEl =\n",
              "          document.querySelector('#df-fa40d602-ec4d-4d9c-8fcb-c15e23126244 button.colab-df-convert');\n",
              "        buttonEl.style.display =\n",
              "          google.colab.kernel.accessAllowed ? 'block' : 'none';\n",
              "\n",
              "        async function convertToInteractive(key) {\n",
              "          const element = document.querySelector('#df-fa40d602-ec4d-4d9c-8fcb-c15e23126244');\n",
              "          const dataTable =\n",
              "            await google.colab.kernel.invokeFunction('convertToInteractive',\n",
              "                                                     [key], {});\n",
              "          if (!dataTable) return;\n",
              "\n",
              "          const docLinkHtml = 'Like what you see? Visit the ' +\n",
              "            '<a target=\"_blank\" href=https://colab.research.google.com/notebooks/data_table.ipynb>data table notebook</a>'\n",
              "            + ' to learn more about interactive tables.';\n",
              "          element.innerHTML = '';\n",
              "          dataTable['output_type'] = 'display_data';\n",
              "          await google.colab.output.renderOutput(dataTable, element);\n",
              "          const docLink = document.createElement('div');\n",
              "          docLink.innerHTML = docLinkHtml;\n",
              "          element.appendChild(docLink);\n",
              "        }\n",
              "      </script>\n",
              "    </div>\n",
              "  </div>\n",
              "  "
            ]
          },
          "metadata": {},
          "execution_count": 11
        }
      ]
    },
    {
      "cell_type": "markdown",
      "source": [
        "# **Check for Multicollinearity**"
      ],
      "metadata": {
        "id": "m-Zs9RVG9W16"
      }
    },
    {
      "cell_type": "markdown",
      "source": [
        "## **From VIF Factor**"
      ],
      "metadata": {
        "id": "Nw0tlyQVBFNe"
      }
    },
    {
      "cell_type": "code",
      "source": [
        "# Checking for Multicollinearity\n",
        "import statsmodels.api as sm\n",
        "from statsmodels.stats.outliers_influence import variance_inflation_factor\n",
        "\n",
        "# Define the Predictor Variables(Features) and the Response Variable(Target Variable)\n",
        "c = df[['Open', 'High', 'Low', 'Adj Close']]\n",
        "d = df['Close']\n",
        "\n",
        "# Fit the linear regression model\n",
        "model = sm.OLS(d, sm.add_constant(c)).fit() # OLS (Ordinary Least Squares) model is a type of linear regression model used to estimate the relationship between a dependent variable(Close) and one or more independent variables\n",
        "\n",
        "# Check for multicollinearity using variance inflation factor (VIF)\n",
        "vif = pd.DataFrame()\n",
        "vif['variables'] = c.columns\n",
        "vif['VIF'] = [variance_inflation_factor(c.values, i) for i in range(c.shape[1])]\n",
        "print(vif)"
      ],
      "metadata": {
        "colab": {
          "base_uri": "https://localhost:8080/"
        },
        "id": "T3iE5O5Vv_WC",
        "outputId": "b418d288-58c8-4883-840b-75f2361bd2d6"
      },
      "execution_count": null,
      "outputs": [
        {
          "output_type": "stream",
          "name": "stdout",
          "text": [
            "   variables           VIF\n",
            "0       Open  25462.386230\n",
            "1       High  26480.774973\n",
            "2        Low  31515.210932\n",
            "3  Adj Close  20112.877443\n"
          ]
        }
      ]
    },
    {
      "cell_type": "code",
      "source": [
        "# The VIF measures the degree of multicollinearity for each predictor variable,\n",
        "# If the VIF value is above 10, it is usually considered high and suggests that there is significant multicollinearity among the predictor variables.\n",
        "# So, we will drop \"Open\",\"High\",\"Low\",\"Adj Close\" because of high multicollinearity."
      ],
      "metadata": {
        "id": "bzpTO9gkv_TW"
      },
      "execution_count": null,
      "outputs": []
    },
    {
      "cell_type": "code",
      "source": [
        "# Dropping Featutes\n",
        "final_data=df.drop(['Open', 'High', 'Low', 'Adj Close'],axis=1)\n",
        "final_data"
      ],
      "metadata": {
        "colab": {
          "base_uri": "https://localhost:8080/"
        },
        "id": "C-41T1vIv_Rh",
        "outputId": "8c57e627-604e-41b0-d1fd-0f386b905036"
      },
      "execution_count": null,
      "outputs": [
        {
          "output_type": "execute_result",
          "data": {
            "text/plain": [
              "                 Close\n",
              "Date                  \n",
              "2022-05-03  281.779999\n",
              "2022-05-04  289.980011\n",
              "2022-05-05  277.350006\n",
              "2022-05-06  274.730011\n",
              "2022-05-09  264.579987\n",
              "...                ...\n",
              "2023-04-26  295.369995\n",
              "2023-04-27  304.829987\n",
              "2023-04-28  307.260010\n",
              "2023-05-01  305.559998\n",
              "2023-05-02  305.410004\n",
              "\n",
              "[251 rows x 1 columns]"
            ],
            "text/html": [
              "\n",
              "  <div id=\"df-c6830824-8a15-4d03-9715-0e1cf514928c\">\n",
              "    <div class=\"colab-df-container\">\n",
              "      <div>\n",
              "<style scoped>\n",
              "    .dataframe tbody tr th:only-of-type {\n",
              "        vertical-align: middle;\n",
              "    }\n",
              "\n",
              "    .dataframe tbody tr th {\n",
              "        vertical-align: top;\n",
              "    }\n",
              "\n",
              "    .dataframe thead th {\n",
              "        text-align: right;\n",
              "    }\n",
              "</style>\n",
              "<table border=\"1\" class=\"dataframe\">\n",
              "  <thead>\n",
              "    <tr style=\"text-align: right;\">\n",
              "      <th></th>\n",
              "      <th>Close</th>\n",
              "    </tr>\n",
              "    <tr>\n",
              "      <th>Date</th>\n",
              "      <th></th>\n",
              "    </tr>\n",
              "  </thead>\n",
              "  <tbody>\n",
              "    <tr>\n",
              "      <th>2022-05-03</th>\n",
              "      <td>281.779999</td>\n",
              "    </tr>\n",
              "    <tr>\n",
              "      <th>2022-05-04</th>\n",
              "      <td>289.980011</td>\n",
              "    </tr>\n",
              "    <tr>\n",
              "      <th>2022-05-05</th>\n",
              "      <td>277.350006</td>\n",
              "    </tr>\n",
              "    <tr>\n",
              "      <th>2022-05-06</th>\n",
              "      <td>274.730011</td>\n",
              "    </tr>\n",
              "    <tr>\n",
              "      <th>2022-05-09</th>\n",
              "      <td>264.579987</td>\n",
              "    </tr>\n",
              "    <tr>\n",
              "      <th>...</th>\n",
              "      <td>...</td>\n",
              "    </tr>\n",
              "    <tr>\n",
              "      <th>2023-04-26</th>\n",
              "      <td>295.369995</td>\n",
              "    </tr>\n",
              "    <tr>\n",
              "      <th>2023-04-27</th>\n",
              "      <td>304.829987</td>\n",
              "    </tr>\n",
              "    <tr>\n",
              "      <th>2023-04-28</th>\n",
              "      <td>307.260010</td>\n",
              "    </tr>\n",
              "    <tr>\n",
              "      <th>2023-05-01</th>\n",
              "      <td>305.559998</td>\n",
              "    </tr>\n",
              "    <tr>\n",
              "      <th>2023-05-02</th>\n",
              "      <td>305.410004</td>\n",
              "    </tr>\n",
              "  </tbody>\n",
              "</table>\n",
              "<p>251 rows × 1 columns</p>\n",
              "</div>\n",
              "      <button class=\"colab-df-convert\" onclick=\"convertToInteractive('df-c6830824-8a15-4d03-9715-0e1cf514928c')\"\n",
              "              title=\"Convert this dataframe to an interactive table.\"\n",
              "              style=\"display:none;\">\n",
              "        \n",
              "  <svg xmlns=\"http://www.w3.org/2000/svg\" height=\"24px\"viewBox=\"0 0 24 24\"\n",
              "       width=\"24px\">\n",
              "    <path d=\"M0 0h24v24H0V0z\" fill=\"none\"/>\n",
              "    <path d=\"M18.56 5.44l.94 2.06.94-2.06 2.06-.94-2.06-.94-.94-2.06-.94 2.06-2.06.94zm-11 1L8.5 8.5l.94-2.06 2.06-.94-2.06-.94L8.5 2.5l-.94 2.06-2.06.94zm10 10l.94 2.06.94-2.06 2.06-.94-2.06-.94-.94-2.06-.94 2.06-2.06.94z\"/><path d=\"M17.41 7.96l-1.37-1.37c-.4-.4-.92-.59-1.43-.59-.52 0-1.04.2-1.43.59L10.3 9.45l-7.72 7.72c-.78.78-.78 2.05 0 2.83L4 21.41c.39.39.9.59 1.41.59.51 0 1.02-.2 1.41-.59l7.78-7.78 2.81-2.81c.8-.78.8-2.07 0-2.86zM5.41 20L4 18.59l7.72-7.72 1.47 1.35L5.41 20z\"/>\n",
              "  </svg>\n",
              "      </button>\n",
              "      \n",
              "  <style>\n",
              "    .colab-df-container {\n",
              "      display:flex;\n",
              "      flex-wrap:wrap;\n",
              "      gap: 12px;\n",
              "    }\n",
              "\n",
              "    .colab-df-convert {\n",
              "      background-color: #E8F0FE;\n",
              "      border: none;\n",
              "      border-radius: 50%;\n",
              "      cursor: pointer;\n",
              "      display: none;\n",
              "      fill: #1967D2;\n",
              "      height: 32px;\n",
              "      padding: 0 0 0 0;\n",
              "      width: 32px;\n",
              "    }\n",
              "\n",
              "    .colab-df-convert:hover {\n",
              "      background-color: #E2EBFA;\n",
              "      box-shadow: 0px 1px 2px rgba(60, 64, 67, 0.3), 0px 1px 3px 1px rgba(60, 64, 67, 0.15);\n",
              "      fill: #174EA6;\n",
              "    }\n",
              "\n",
              "    [theme=dark] .colab-df-convert {\n",
              "      background-color: #3B4455;\n",
              "      fill: #D2E3FC;\n",
              "    }\n",
              "\n",
              "    [theme=dark] .colab-df-convert:hover {\n",
              "      background-color: #434B5C;\n",
              "      box-shadow: 0px 1px 3px 1px rgba(0, 0, 0, 0.15);\n",
              "      filter: drop-shadow(0px 1px 2px rgba(0, 0, 0, 0.3));\n",
              "      fill: #FFFFFF;\n",
              "    }\n",
              "  </style>\n",
              "\n",
              "      <script>\n",
              "        const buttonEl =\n",
              "          document.querySelector('#df-c6830824-8a15-4d03-9715-0e1cf514928c button.colab-df-convert');\n",
              "        buttonEl.style.display =\n",
              "          google.colab.kernel.accessAllowed ? 'block' : 'none';\n",
              "\n",
              "        async function convertToInteractive(key) {\n",
              "          const element = document.querySelector('#df-c6830824-8a15-4d03-9715-0e1cf514928c');\n",
              "          const dataTable =\n",
              "            await google.colab.kernel.invokeFunction('convertToInteractive',\n",
              "                                                     [key], {});\n",
              "          if (!dataTable) return;\n",
              "\n",
              "          const docLinkHtml = 'Like what you see? Visit the ' +\n",
              "            '<a target=\"_blank\" href=https://colab.research.google.com/notebooks/data_table.ipynb>data table notebook</a>'\n",
              "            + ' to learn more about interactive tables.';\n",
              "          element.innerHTML = '';\n",
              "          dataTable['output_type'] = 'display_data';\n",
              "          await google.colab.output.renderOutput(dataTable, element);\n",
              "          const docLink = document.createElement('div');\n",
              "          docLink.innerHTML = docLinkHtml;\n",
              "          element.appendChild(docLink);\n",
              "        }\n",
              "      </script>\n",
              "    </div>\n",
              "  </div>\n",
              "  "
            ]
          },
          "metadata": {},
          "execution_count": 14
        }
      ]
    },
    {
      "cell_type": "markdown",
      "source": [
        "# **Visualization**"
      ],
      "metadata": {
        "id": "MI0k4amoBpgE"
      }
    },
    {
      "cell_type": "markdown",
      "source": [
        "## **Line chart: It displays the Trend and Seasonality**"
      ],
      "metadata": {
        "id": "DbyAwwW4B7d8"
      }
    },
    {
      "cell_type": "code",
      "source": [
        "plt.figure(figsize=(20,12))\n",
        "plt.subplot(2, 1, 1)\n",
        "plt.plot(final_data.Close, label='Close Price')\n",
        "plt.title(symbol)\n",
        "plt.legend()\n",
        "plt.grid()\n",
        "plt.show()"
      ],
      "metadata": {
        "colab": {
          "base_uri": "https://localhost:8080/"
        },
        "id": "iKe8ImzaG1Xm",
        "outputId": "d1234f42-af48-40f4-dd46-75cd064eb6e4"
      },
      "execution_count": null,
      "outputs": [
        {
          "output_type": "display_data",
          "data": {
            "text/plain": [
              "<Figure size 2000x1200 with 1 Axes>"
            ],
            "image/png": "[encoded data removed]"
          },
          "metadata": {}
        }
      ]
    },
    {
      "cell_type": "markdown",
      "source": [
        "### **1. Checking Trend**"
      ],
      "metadata": {
        "id": "XhTPM1wTCFxr"
      }
    },
    {
      "cell_type": "code",
      "source": [
        "# 1. Trend is Upward and Non-Linear\n",
        "# 2. Non-Stationary Time Series\n",
        "    # No constant mean\n",
        "    # No constant variance"
      ],
      "metadata": {
        "id": "uTkIiqN1s6-S"
      },
      "execution_count": null,
      "outputs": []
    },
    {
      "cell_type": "markdown",
      "source": [
        "### **2. Checking Seasonality: Repeating Trends/Pattern over time**"
      ],
      "metadata": {
        "id": "JOnLq47iFauV"
      }
    },
    {
      "cell_type": "code",
      "source": [
        "# As such no Seasonality in the graph"
      ],
      "metadata": {
        "id": "HvpEWCbtxcBi"
      },
      "execution_count": null,
      "outputs": []
    },
    {
      "cell_type": "code",
      "source": [
        "# We will go for ARIMA (Autoregressive Integrated Moving Average)\n",
        "# ARIMA, meaning that they only consider the past values of the target variable (univariate dataset)."
      ],
      "metadata": {
        "id": "D6V2cuaDxco3"
      },
      "execution_count": null,
      "outputs": []
    },
    {
      "cell_type": "markdown",
      "source": [
        "# Linear Regression Model:-"
      ],
      "metadata": {
        "id": "lu2z8Apa45Fw"
      }
    },
    {
      "cell_type": "code",
      "source": [
        "# Create a new column 'Day' to hold day numbers as integers\n",
        "final_data.reset_index(inplace=True)\n",
        "final_data['Day'] = np.arange(len(final_data))\n",
        "final_data"
      ],
      "metadata": {
        "id": "kIp9W4OFmWKR",
        "colab": {
          "base_uri": "https://localhost:8080/"
        },
        "outputId": "9362c8aa-d5bf-4d0c-fc87-9f20f3141517"
      },
      "execution_count": null,
      "outputs": [
        {
          "output_type": "execute_result",
          "data": {
            "text/plain": [
              "          Date       Close  Day\n",
              "0   2022-05-03  281.779999    0\n",
              "1   2022-05-04  289.980011    1\n",
              "2   2022-05-05  277.350006    2\n",
              "3   2022-05-06  274.730011    3\n",
              "4   2022-05-09  264.579987    4\n",
              "..         ...         ...  ...\n",
              "246 2023-04-26  295.369995  246\n",
              "247 2023-04-27  304.829987  247\n",
              "248 2023-04-28  307.260010  248\n",
              "249 2023-05-01  305.559998  249\n",
              "250 2023-05-02  305.410004  250\n",
              "\n",
              "[251 rows x 3 columns]"
            ],
            "text/html": [
              "\n",
              "  <div id=\"df-2f0cef5c-75fa-45c3-a383-a49607526c72\">\n",
              "    <div class=\"colab-df-container\">\n",
              "      <div>\n",
              "<style scoped>\n",
              "    .dataframe tbody tr th:only-of-type {\n",
              "        vertical-align: middle;\n",
              "    }\n",
              "\n",
              "    .dataframe tbody tr th {\n",
              "        vertical-align: top;\n",
              "    }\n",
              "\n",
              "    .dataframe thead th {\n",
              "        text-align: right;\n",
              "    }\n",
              "</style>\n",
              "<table border=\"1\" class=\"dataframe\">\n",
              "  <thead>\n",
              "    <tr style=\"text-align: right;\">\n",
              "      <th></th>\n",
              "      <th>Date</th>\n",
              "      <th>Close</th>\n",
              "      <th>Day</th>\n",
              "    </tr>\n",
              "  </thead>\n",
              "  <tbody>\n",
              "    <tr>\n",
              "      <th>0</th>\n",
              "      <td>2022-05-03</td>\n",
              "      <td>281.779999</td>\n",
              "      <td>0</td>\n",
              "    </tr>\n",
              "    <tr>\n",
              "      <th>1</th>\n",
              "      <td>2022-05-04</td>\n",
              "      <td>289.980011</td>\n",
              "      <td>1</td>\n",
              "    </tr>\n",
              "    <tr>\n",
              "      <th>2</th>\n",
              "      <td>2022-05-05</td>\n",
              "      <td>277.350006</td>\n",
              "      <td>2</td>\n",
              "    </tr>\n",
              "    <tr>\n",
              "      <th>3</th>\n",
              "      <td>2022-05-06</td>\n",
              "      <td>274.730011</td>\n",
              "      <td>3</td>\n",
              "    </tr>\n",
              "    <tr>\n",
              "      <th>4</th>\n",
              "      <td>2022-05-09</td>\n",
              "      <td>264.579987</td>\n",
              "      <td>4</td>\n",
              "    </tr>\n",
              "    <tr>\n",
              "      <th>...</th>\n",
              "      <td>...</td>\n",
              "      <td>...</td>\n",
              "      <td>...</td>\n",
              "    </tr>\n",
              "    <tr>\n",
              "      <th>246</th>\n",
              "      <td>2023-04-26</td>\n",
              "      <td>295.369995</td>\n",
              "      <td>246</td>\n",
              "    </tr>\n",
              "    <tr>\n",
              "      <th>247</th>\n",
              "      <td>2023-04-27</td>\n",
              "      <td>304.829987</td>\n",
              "      <td>247</td>\n",
              "    </tr>\n",
              "    <tr>\n",
              "      <th>248</th>\n",
              "      <td>2023-04-28</td>\n",
              "      <td>307.260010</td>\n",
              "      <td>248</td>\n",
              "    </tr>\n",
              "    <tr>\n",
              "      <th>249</th>\n",
              "      <td>2023-05-01</td>\n",
              "      <td>305.559998</td>\n",
              "      <td>249</td>\n",
              "    </tr>\n",
              "    <tr>\n",
              "      <th>250</th>\n",
              "      <td>2023-05-02</td>\n",
              "      <td>305.410004</td>\n",
              "      <td>250</td>\n",
              "    </tr>\n",
              "  </tbody>\n",
              "</table>\n",
              "<p>251 rows × 3 columns</p>\n",
              "</div>\n",
              "      <button class=\"colab-df-convert\" onclick=\"convertToInteractive('df-2f0cef5c-75fa-45c3-a383-a49607526c72')\"\n",
              "              title=\"Convert this dataframe to an interactive table.\"\n",
              "              style=\"display:none;\">\n",
              "        \n",
              "  <svg xmlns=\"http://www.w3.org/2000/svg\" height=\"24px\"viewBox=\"0 0 24 24\"\n",
              "       width=\"24px\">\n",
              "    <path d=\"M0 0h24v24H0V0z\" fill=\"none\"/>\n",
              "    <path d=\"M18.56 5.44l.94 2.06.94-2.06 2.06-.94-2.06-.94-.94-2.06-.94 2.06-2.06.94zm-11 1L8.5 8.5l.94-2.06 2.06-.94-2.06-.94L8.5 2.5l-.94 2.06-2.06.94zm10 10l.94 2.06.94-2.06 2.06-.94-2.06-.94-.94-2.06-.94 2.06-2.06.94z\"/><path d=\"M17.41 7.96l-1.37-1.37c-.4-.4-.92-.59-1.43-.59-.52 0-1.04.2-1.43.59L10.3 9.45l-7.72 7.72c-.78.78-.78 2.05 0 2.83L4 21.41c.39.39.9.59 1.41.59.51 0 1.02-.2 1.41-.59l7.78-7.78 2.81-2.81c.8-.78.8-2.07 0-2.86zM5.41 20L4 18.59l7.72-7.72 1.47 1.35L5.41 20z\"/>\n",
              "  </svg>\n",
              "      </button>\n",
              "      \n",
              "  <style>\n",
              "    .colab-df-container {\n",
              "      display:flex;\n",
              "      flex-wrap:wrap;\n",
              "      gap: 12px;\n",
              "    }\n",
              "\n",
              "    .colab-df-convert {\n",
              "      background-color: #E8F0FE;\n",
              "      border: none;\n",
              "      border-radius: 50%;\n",
              "      cursor: pointer;\n",
              "      display: none;\n",
              "      fill: #1967D2;\n",
              "      height: 32px;\n",
              "      padding: 0 0 0 0;\n",
              "      width: 32px;\n",
              "    }\n",
              "\n",
              "    .colab-df-convert:hover {\n",
              "      background-color: #E2EBFA;\n",
              "      box-shadow: 0px 1px 2px rgba(60, 64, 67, 0.3), 0px 1px 3px 1px rgba(60, 64, 67, 0.15);\n",
              "      fill: #174EA6;\n",
              "    }\n",
              "\n",
              "    [theme=dark] .colab-df-convert {\n",
              "      background-color: #3B4455;\n",
              "      fill: #D2E3FC;\n",
              "    }\n",
              "\n",
              "    [theme=dark] .colab-df-convert:hover {\n",
              "      background-color: #434B5C;\n",
              "      box-shadow: 0px 1px 3px 1px rgba(0, 0, 0, 0.15);\n",
              "      filter: drop-shadow(0px 1px 2px rgba(0, 0, 0, 0.3));\n",
              "      fill: #FFFFFF;\n",
              "    }\n",
              "  </style>\n",
              "\n",
              "      <script>\n",
              "        const buttonEl =\n",
              "          document.querySelector('#df-2f0cef5c-75fa-45c3-a383-a49607526c72 button.colab-df-convert');\n",
              "        buttonEl.style.display =\n",
              "          google.colab.kernel.accessAllowed ? 'block' : 'none';\n",
              "\n",
              "        async function convertToInteractive(key) {\n",
              "          const element = document.querySelector('#df-2f0cef5c-75fa-45c3-a383-a49607526c72');\n",
              "          const dataTable =\n",
              "            await google.colab.kernel.invokeFunction('convertToInteractive',\n",
              "                                                     [key], {});\n",
              "          if (!dataTable) return;\n",
              "\n",
              "          const docLinkHtml = 'Like what you see? Visit the ' +\n",
              "            '<a target=\"_blank\" href=https://colab.research.google.com/notebooks/data_table.ipynb>data table notebook</a>'\n",
              "            + ' to learn more about interactive tables.';\n",
              "          element.innerHTML = '';\n",
              "          dataTable['output_type'] = 'display_data';\n",
              "          await google.colab.output.renderOutput(dataTable, element);\n",
              "          const docLink = document.createElement('div');\n",
              "          docLink.innerHTML = docLinkHtml;\n",
              "          element.appendChild(docLink);\n",
              "        }\n",
              "      </script>\n",
              "    </div>\n",
              "  </div>\n",
              "  "
            ]
          },
          "metadata": {},
          "execution_count": 19
        }
      ]
    },
    {
      "cell_type": "code",
      "source": [
        "# Split the data into train and test sets\n",
        "train_data = final_data.iloc[:-60, :]   # use first n-60 days for training\n",
        "test_data = final_data.iloc[-60:, :]    # use last 60 days for testing"
      ],
      "metadata": {
        "id": "k7XL7J5LmfWQ"
      },
      "execution_count": null,
      "outputs": []
    },
    {
      "cell_type": "code",
      "source": [
        "# Fit a linear regression model to the training data\n",
        "from sklearn.linear_model import LinearRegression\n",
        "regressor = LinearRegression()\n",
        "regressor.fit(train_data[['Day']], train_data['Close'])"
      ],
      "metadata": {
        "colab": {
          "base_uri": "https://localhost:8080/"
        },
        "id": "hupJW9sWmk3a",
        "outputId": "1bd2d575-c894-4638-b3c1-554dbf447bc6"
      },
      "execution_count": null,
      "outputs": [
        {
          "output_type": "execute_result",
          "data": {
            "text/plain": [
              "LinearRegression()"
            ],
            "text/html": [
              "<style>#sk-container-id-1 {color: black;background-color: white;}#sk-container-id-1 pre{padding: 0;}#sk-container-id-1 div.sk-toggleable {background-color: white;}#sk-container-id-1 label.sk-toggleable__label {cursor: pointer;display: block;width: 100%;margin-bottom: 0;padding: 0.3em;box-sizing: border-box;text-align: center;}#sk-container-id-1 label.sk-toggleable__label-arrow:before {content: \"▸\";float: left;margin-right: 0.25em;color: #696969;}#sk-container-id-1 label.sk-toggleable__label-arrow:hover:before {color: black;}#sk-container-id-1 div.sk-estimator:hover label.sk-toggleable__label-arrow:before {color: black;}#sk-container-id-1 div.sk-toggleable__content {max-height: 0;max-width: 0;overflow: hidden;text-align: left;background-color: #f0f8ff;}#sk-container-id-1 div.sk-toggleable__content pre {margin: 0.2em;color: black;border-radius: 0.25em;background-color: #f0f8ff;}#sk-container-id-1 input.sk-toggleable__control:checked~div.sk-toggleable__content {max-height: 200px;max-width: 100%;overflow: auto;}#sk-container-id-1 input.sk-toggleable__control:checked~label.sk-toggleable__label-arrow:before {content: \"▾\";}#sk-container-id-1 div.sk-estimator input.sk-toggleable__control:checked~label.sk-toggleable__label {background-color: #d4ebff;}#sk-container-id-1 div.sk-label input.sk-toggleable__control:checked~label.sk-toggleable__label {background-color: #d4ebff;}#sk-container-id-1 input.sk-hidden--visually {border: 0;clip: rect(1px 1px 1px 1px);clip: rect(1px, 1px, 1px, 1px);height: 1px;margin: -1px;overflow: hidden;padding: 0;position: absolute;width: 1px;}#sk-container-id-1 div.sk-estimator {font-family: monospace;background-color: #f0f8ff;border: 1px dotted black;border-radius: 0.25em;box-sizing: border-box;margin-bottom: 0.5em;}#sk-container-id-1 div.sk-estimator:hover {background-color: #d4ebff;}#sk-container-id-1 div.sk-parallel-item::after {content: \"\";width: 100%;border-bottom: 1px solid gray;flex-grow: 1;}#sk-container-id-1 div.sk-label:hover label.sk-toggleable__label {background-color: #d4ebff;}#sk-container-id-1 div.sk-serial::before {content: \"\";position: absolute;border-left: 1px solid gray;box-sizing: border-box;top: 0;bottom: 0;left: 50%;z-index: 0;}#sk-container-id-1 div.sk-serial {display: flex;flex-direction: column;align-items: center;background-color: white;padding-right: 0.2em;padding-left: 0.2em;position: relative;}#sk-container-id-1 div.sk-item {position: relative;z-index: 1;}#sk-container-id-1 div.sk-parallel {display: flex;align-items: stretch;justify-content: center;background-color: white;position: relative;}#sk-container-id-1 div.sk-item::before, #sk-container-id-1 div.sk-parallel-item::before {content: \"\";position: absolute;border-left: 1px solid gray;box-sizing: border-box;top: 0;bottom: 0;left: 50%;z-index: -1;}#sk-container-id-1 div.sk-parallel-item {display: flex;flex-direction: column;z-index: 1;position: relative;background-color: white;}#sk-container-id-1 div.sk-parallel-item:first-child::after {align-self: flex-end;width: 50%;}#sk-container-id-1 div.sk-parallel-item:last-child::after {align-self: flex-start;width: 50%;}#sk-container-id-1 div.sk-parallel-item:only-child::after {width: 0;}#sk-container-id-1 div.sk-dashed-wrapped {border: 1px dashed gray;margin: 0 0.4em 0.5em 0.4em;box-sizing: border-box;padding-bottom: 0.4em;background-color: white;}#sk-container-id-1 div.sk-label label {font-family: monospace;font-weight: bold;display: inline-block;line-height: 1.2em;}#sk-container-id-1 div.sk-label-container {text-align: center;}#sk-container-id-1 div.sk-container {/* jupyter's `normalize.less` sets `[hidden] { display: none; }` but bootstrap.min.css set `[hidden] { display: none !important; }` so we also need the `!important` here to be able to override the default hidden behavior on the sphinx rendered scikit-learn.org. See: https://github.com/scikit-learn/scikit-learn/issues/21755 */display: inline-block !important;position: relative;}#sk-container-id-1 div.sk-text-repr-fallback {display: none;}</style><div id=\"sk-container-id-1\" class=\"sk-top-container\"><div class=\"sk-text-repr-fallback\"><pre>LinearRegression()</pre><b>In a Jupyter environment, please rerun this cell to show the HTML representation or trust the notebook. <br />On GitHub, the HTML representation is unable to render, please try loading this page with nbviewer.org.</b></div><div class=\"sk-container\" hidden><div class=\"sk-item\"><div class=\"sk-estimator sk-toggleable\"><input class=\"sk-toggleable__control sk-hidden--visually\" id=\"sk-estimator-id-1\" type=\"checkbox\" checked><label for=\"sk-estimator-id-1\" class=\"sk-toggleable__label sk-toggleable__label-arrow\">LinearRegression</label><div class=\"sk-toggleable__content\"><pre>LinearRegression()</pre></div></div></div></div></div>"
            ]
          },
          "metadata": {},
          "execution_count": 21
        }
      ]
    },
    {
      "cell_type": "code",
      "source": [
        "from sklearn.metrics import mean_squared_error\n",
        "np.sqrt(mean_squared_error(test_data[['Day']], test_data['Close']))"
      ],
      "metadata": {
        "colab": {
          "base_uri": "https://localhost:8080/"
        },
        "id": "4XuX2UuDV91y",
        "outputId": "72a2dd69-2b14-46b6-cbdd-24d7fc9642c1"
      },
      "execution_count": null,
      "outputs": [
        {
          "output_type": "execute_result",
          "data": {
            "text/plain": [
              "53.60137219619258"
            ]
          },
          "metadata": {},
          "execution_count": 22
        }
      ]
    },
    {
      "cell_type": "code",
      "source": [
        "from sklearn.metrics import r2_score\n",
        "r2_score(test_data[['Day']], test_data['Close'])"
      ],
      "metadata": {
        "colab": {
          "base_uri": "https://localhost:8080/"
        },
        "id": "eHh1b5eWrsC7",
        "outputId": "4134458f-a414-4591-86d3-5076c14bc2a3"
      },
      "execution_count": null,
      "outputs": [
        {
          "output_type": "execute_result",
          "data": {
            "text/plain": [
              "-8.579684694575494"
            ]
          },
          "metadata": {},
          "execution_count": 23
        }
      ]
    },
    {
      "cell_type": "code",
      "source": [
        "# Predict future stock prices\n",
        "from datetime import date, timedelta\n",
        "future_days = 10   # number of days for future forecast\n",
        "future = pd.DataFrame({'Day': np.arange(len(final_data) + 1, len(final_data) + 1 + future_days)})\n",
        "future['Date'] = [end + timedelta(days=i + 1) for i in range(future_days)]"
      ],
      "metadata": {
        "id": "7Vmu2QiVoGXP"
      },
      "execution_count": null,
      "outputs": []
    },
    {
      "cell_type": "code",
      "source": [
        "# Set a maximum increase of 20% on predicted values\n",
        "prev_close = final_data.loc[len(final_data) - 1, 'Close']\n",
        "for i in range(len(future)):\n",
        "    if i == 0:\n",
        "        future.loc[i, 'Close'] = prev_close\n",
        "    else:\n",
        "        predicted_close = regressor.predict([[len(final_data) + i]])[0]\n",
        "        max_increase = prev_close * 0.2\n",
        "        for j in range(5):\n",
        "            if len(final_data) - j - 1 >= 0:\n",
        "                max_increase = max(max_increase, final_data.loc[len(final_data) - j - 1, 'Close'] * 0.2)\n",
        "            if len(future) - j - 1 >= 0:\n",
        "                max_increase = max(max_increase, future.loc[len(future) - j - 1, 'Close'] * 0.2)\n",
        "        if predicted_close > prev_close + max_increase:\n",
        "            future.loc[i, 'Close'] = prev_close + max_increase\n",
        "        else:\n",
        "            future.loc[i, 'Close'] = predicted_close\n",
        "        prev_close = future.loc[i, 'Close']"
      ],
      "metadata": {
        "colab": {
          "base_uri": "https://localhost:8080/"
        },
        "id": "AmwNMFq6nVQ4",
        "outputId": "93a35d82-979a-4279-ed61-051891083b99"
      },
      "execution_count": null,
      "outputs": [
        {
          "output_type": "stream",
          "name": "stderr",
          "text": [
            "/usr/local/lib/python3.10/dist-packages/sklearn/base.py:439: UserWarning: X does not have valid feature names, but LinearRegression was fitted with feature names\n",
            "  warnings.warn(\n",
            "/usr/local/lib/python3.10/dist-packages/sklearn/base.py:439: UserWarning: X does not have valid feature names, but LinearRegression was fitted with feature names\n",
            "  warnings.warn(\n",
            "/usr/local/lib/python3.10/dist-packages/sklearn/base.py:439: UserWarning: X does not have valid feature names, but LinearRegression was fitted with feature names\n",
            "  warnings.warn(\n",
            "/usr/local/lib/python3.10/dist-packages/sklearn/base.py:439: UserWarning: X does not have valid feature names, but LinearRegression was fitted with feature names\n",
            "  warnings.warn(\n",
            "/usr/local/lib/python3.10/dist-packages/sklearn/base.py:439: UserWarning: X does not have valid feature names, but LinearRegression was fitted with feature names\n",
            "  warnings.warn(\n",
            "/usr/local/lib/python3.10/dist-packages/sklearn/base.py:439: UserWarning: X does not have valid feature names, but LinearRegression was fitted with feature names\n",
            "  warnings.warn(\n",
            "/usr/local/lib/python3.10/dist-packages/sklearn/base.py:439: UserWarning: X does not have valid feature names, but LinearRegression was fitted with feature names\n",
            "  warnings.warn(\n",
            "/usr/local/lib/python3.10/dist-packages/sklearn/base.py:439: UserWarning: X does not have valid feature names, but LinearRegression was fitted with feature names\n",
            "  warnings.warn(\n",
            "/usr/local/lib/python3.10/dist-packages/sklearn/base.py:439: UserWarning: X does not have valid feature names, but LinearRegression was fitted with feature names\n",
            "  warnings.warn(\n"
          ]
        }
      ]
    },
    {
      "cell_type": "code",
      "source": [
        "# Print dataset and predicted values\n",
        "print(\"Historical Data:\")\n",
        "print(final_data)\n",
        "print(\"\\nPredicted Values:\")\n",
        "print(future)"
      ],
      "metadata": {
        "colab": {
          "base_uri": "https://localhost:8080/"
        },
        "id": "m0jUNCvRqDZe",
        "outputId": "463f60f6-88a9-4e62-d6ce-f1c479d39b8a"
      },
      "execution_count": null,
      "outputs": [
        {
          "output_type": "stream",
          "name": "stdout",
          "text": [
            "Historical Data:\n",
            "          Date       Close  Day\n",
            "0   2022-05-03  281.779999    0\n",
            "1   2022-05-04  289.980011    1\n",
            "2   2022-05-05  277.350006    2\n",
            "3   2022-05-06  274.730011    3\n",
            "4   2022-05-09  264.579987    4\n",
            "..         ...         ...  ...\n",
            "246 2023-04-26  295.369995  246\n",
            "247 2023-04-27  304.829987  247\n",
            "248 2023-04-28  307.260010  248\n",
            "249 2023-05-01  305.559998  249\n",
            "250 2023-05-02  305.410004  250\n",
            "\n",
            "[251 rows x 3 columns]\n",
            "\n",
            "Predicted Values:\n",
            "   Day                       Date       Close\n",
            "0  252 2023-05-04 02:10:47.350763  305.410004\n",
            "1  253 2023-05-05 02:10:47.350763  223.343061\n",
            "2  254 2023-05-06 02:10:47.350763  223.154734\n",
            "3  255 2023-05-07 02:10:47.350763  222.966407\n",
            "4  256 2023-05-08 02:10:47.350763  222.778080\n",
            "5  257 2023-05-09 02:10:47.350763  222.589753\n",
            "6  258 2023-05-10 02:10:47.350763  222.401426\n",
            "7  259 2023-05-11 02:10:47.350763  222.213098\n",
            "8  260 2023-05-12 02:10:47.350763  222.024771\n",
            "9  261 2023-05-13 02:10:47.350763  221.836444\n"
          ]
        }
      ]
    },
    {
      "cell_type": "code",
      "source": [
        "# Plot actual and predicted values on a graph\n",
        "plt.figure(figsize=(12, 6))\n",
        "plt.plot(train_data['Date'], train_data['Close'], label='Training Data')\n",
        "plt.plot(test_data['Date'], test_data['Close'], label='Actual Values')\n",
        "plt.plot(future['Date'], future['Close'], label='Predicted Values')\n",
        "plt.xlabel('Date')\n",
        "plt.ylabel('Stock Price')\n",
        "plt.title('Future Stock Price Prediction')\n",
        "plt.legend()\n",
        "plt.show()"
      ],
      "metadata": {
        "colab": {
          "base_uri": "https://localhost:8080/"
        },
        "id": "I4Umga2DqFo8",
        "outputId": "2d5d6bc9-932e-4042-e748-b4bf67bdea73"
      },
      "execution_count": null,
      "outputs": [
        {
          "output_type": "display_data",
          "data": {
            "text/plain": [
              "<Figure size 1200x600 with 1 Axes>"
            ],
            "image/png": "[encoded data removed]"
          },
          "metadata": {}
        }
      ]
    }
  ]
}